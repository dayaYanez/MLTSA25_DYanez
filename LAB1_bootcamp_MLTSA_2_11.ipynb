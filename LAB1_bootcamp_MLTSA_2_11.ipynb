{
  "nbformat": 4,
  "nbformat_minor": 0,
  "metadata": {
    "colab": {
      "provenance": [],
      "authorship_tag": "ABX9TyOKkbAIN618sT1Ji34K7p/+",
      "include_colab_link": true
    },
    "kernelspec": {
      "name": "python3",
      "display_name": "Python 3"
    },
    "language_info": {
      "name": "python"
    }
  },
  "cells": [
    {
      "cell_type": "markdown",
      "metadata": {
        "id": "view-in-github",
        "colab_type": "text"
      },
      "source": [
        "<a href=\"https://colab.research.google.com/github/dayaYanez/MLTSA25_DYanez/blob/main/LAB1_bootcamp_MLTSA_2_11.ipynb\" target=\"_parent\"><img src=\"https://colab.research.google.com/assets/colab-badge.svg\" alt=\"Open In Colab\"/></a>"
      ]
    },
    {
      "cell_type": "code",
      "execution_count": 2,
      "metadata": {
        "id": "75Lz7Jy2hjNG"
      },
      "outputs": [],
      "source": [
        "#creating variables and identifying types of variables\n",
        "\n",
        "my_str = 'hello'\n"
      ]
    },
    {
      "cell_type": "code",
      "source": [
        "print(my_str)"
      ],
      "metadata": {
        "colab": {
          "base_uri": "https://localhost:8080/"
        },
        "id": "GvyazEYZiNci",
        "outputId": "0dda70bc-78c9-415a-82f5-b0d974547a6a"
      },
      "execution_count": 3,
      "outputs": [
        {
          "output_type": "stream",
          "name": "stdout",
          "text": [
            "hello\n"
          ]
        }
      ]
    },
    {
      "cell_type": "code",
      "source": [
        "#creating and integer\n",
        "my_int = 6"
      ],
      "metadata": {
        "id": "uSM_ZNmwibjm"
      },
      "execution_count": 6,
      "outputs": []
    },
    {
      "cell_type": "code",
      "source": [
        "my_float = 6."
      ],
      "metadata": {
        "id": "nXTCPu6-iiMy"
      },
      "execution_count": 7,
      "outputs": []
    },
    {
      "cell_type": "code",
      "source": [
        "print(my_float)"
      ],
      "metadata": {
        "colab": {
          "base_uri": "https://localhost:8080/"
        },
        "id": "YVWEGchMinAI",
        "outputId": "3df45890-6ec1-42c4-ce91-3e22e1220994"
      },
      "execution_count": 8,
      "outputs": [
        {
          "output_type": "stream",
          "name": "stdout",
          "text": [
            "6.0\n"
          ]
        }
      ]
    },
    {
      "cell_type": "markdown",
      "source": [],
      "metadata": {
        "id": "jdz-nmxPiyJy"
      }
    },
    {
      "cell_type": "code",
      "source": [
        "my_int * my_float\n",
        "#it will create a float to storage more"
      ],
      "metadata": {
        "id": "43jvwebfi99g"
      },
      "execution_count": null,
      "outputs": []
    },
    {
      "cell_type": "code",
      "source": [
        "my_int * my_str"
      ],
      "metadata": {
        "id": "KFF3hriDjPn2"
      },
      "execution_count": null,
      "outputs": []
    },
    {
      "cell_type": "code",
      "source": [
        "helloword = \"hello\" + \" word\"\n",
        "#it will concatenate the word into a single str"
      ],
      "metadata": {
        "id": "OzqfGmkrjaFl"
      },
      "execution_count": null,
      "outputs": []
    },
    {
      "cell_type": "code",
      "source": [
        "import numpy as np"
      ],
      "metadata": {
        "id": "Q_sOstfTjnLY"
      },
      "execution_count": 10,
      "outputs": []
    },
    {
      "cell_type": "code",
      "source": [
        "my_nparr = np.array([1,2,3])\n",
        "#make an array of this number\n",
        "my_nparr"
      ],
      "metadata": {
        "colab": {
          "base_uri": "https://localhost:8080/"
        },
        "id": "5cuwVbEgjyMV",
        "outputId": "129e243e-d5d0-453c-9735-fbf1b8232581"
      },
      "execution_count": 20,
      "outputs": [
        {
          "output_type": "execute_result",
          "data": {
            "text/plain": [
              "array([1, 2, 3])"
            ]
          },
          "metadata": {},
          "execution_count": 20
        }
      ]
    },
    {
      "cell_type": "code",
      "source": [
        "my_int * my_nparr"
      ],
      "metadata": {
        "colab": {
          "base_uri": "https://localhost:8080/"
        },
        "id": "uXrPkaBMkE5J",
        "outputId": "43a68c9c-e093-4699-ba95-63e4fc0b7d20"
      },
      "execution_count": 13,
      "outputs": [
        {
          "output_type": "execute_result",
          "data": {
            "text/plain": [
              "array([ 6, 12, 18])"
            ]
          },
          "metadata": {},
          "execution_count": 13
        }
      ]
    },
    {
      "cell_type": "code",
      "source": [
        "my_bool = True\n",
        "#to create conditions in the code."
      ],
      "metadata": {
        "id": "swsTScQ4kJIF"
      },
      "execution_count": null,
      "outputs": []
    },
    {
      "cell_type": "code",
      "source": [
        "my_int = 1"
      ],
      "metadata": {
        "id": "asdlaXYqkcwz"
      },
      "execution_count": 14,
      "outputs": []
    },
    {
      "cell_type": "code",
      "source": [
        "my_int != 6"
      ],
      "metadata": {
        "id": "K9Bqx1rekxaC"
      },
      "execution_count": null,
      "outputs": []
    },
    {
      "cell_type": "code",
      "source": [
        "if my_int != 6:\n",
        "  print(\"my_int is not 6\")\n",
        "else:\n",
        "  print(\"int was 6!!\")\n",
        ""
      ],
      "metadata": {
        "colab": {
          "base_uri": "https://localhost:8080/"
        },
        "id": "zayeEyiTk1s1",
        "outputId": "ad60a5b2-4577-48c2-ffc2-a9d8ea5bd749"
      },
      "execution_count": 16,
      "outputs": [
        {
          "output_type": "stream",
          "name": "stdout",
          "text": [
            "my_int is not 6\n"
          ]
        }
      ]
    },
    {
      "cell_type": "code",
      "source": [
        "type(my_str)"
      ],
      "metadata": {
        "colab": {
          "base_uri": "https://localhost:8080/"
        },
        "id": "nhWa3ggkk5ZB",
        "outputId": "50f0b4cf-8cf9-4949-de09-f820d8f89e00"
      },
      "execution_count": 41,
      "outputs": [
        {
          "output_type": "execute_result",
          "data": {
            "text/plain": [
              "str"
            ]
          },
          "metadata": {},
          "execution_count": 41
        }
      ]
    },
    {
      "cell_type": "code",
      "source": [
        "my_nparr.dtype"
      ],
      "metadata": {
        "colab": {
          "base_uri": "https://localhost:8080/"
        },
        "id": "jkdwfSq5lc-e",
        "outputId": "e849542c-8ff5-4729-96ae-6dab8ca4fa76"
      },
      "execution_count": 21,
      "outputs": [
        {
          "output_type": "execute_result",
          "data": {
            "text/plain": [
              "dtype('int64')"
            ]
          },
          "metadata": {},
          "execution_count": 21
        }
      ]
    },
    {
      "cell_type": "code",
      "source": [
        "my_nparr.argmax()"
      ],
      "metadata": {
        "colab": {
          "base_uri": "https://localhost:8080/"
        },
        "id": "bwr3NljBlhK3",
        "outputId": "1f86943f-317e-4f01-bd00-89b4f909e1d3"
      },
      "execution_count": 22,
      "outputs": [
        {
          "output_type": "execute_result",
          "data": {
            "text/plain": [
              "2"
            ]
          },
          "metadata": {},
          "execution_count": 22
        }
      ]
    },
    {
      "cell_type": "code",
      "source": [
        "my_nparr[1:2]"
      ],
      "metadata": {
        "colab": {
          "base_uri": "https://localhost:8080/"
        },
        "id": "njGlgtPGl_gC",
        "outputId": "b09be473-7cee-406b-9301-04a4ba389315"
      },
      "execution_count": 26,
      "outputs": [
        {
          "output_type": "execute_result",
          "data": {
            "text/plain": [
              "array([2])"
            ]
          },
          "metadata": {},
          "execution_count": 26
        }
      ]
    },
    {
      "cell_type": "code",
      "source": [
        "#utility function\n",
        "list(range(1,4))\n"
      ],
      "metadata": {
        "colab": {
          "base_uri": "https://localhost:8080/"
        },
        "id": "Cpdoan57me-p",
        "outputId": "ace21272-3d42-4683-8066-4b9959866f1b"
      },
      "execution_count": 27,
      "outputs": [
        {
          "output_type": "execute_result",
          "data": {
            "text/plain": [
              "[1, 2, 3]"
            ]
          },
          "metadata": {},
          "execution_count": 27
        }
      ]
    },
    {
      "cell_type": "code",
      "source": [
        "for a in range(1,4):\n",
        "  print(sum(np.arange(0,a)))"
      ],
      "metadata": {
        "colab": {
          "base_uri": "https://localhost:8080/"
        },
        "id": "VbjVYPgNm_dz",
        "outputId": "38323ac2-5202-4ef6-b913-22eada6093e8"
      },
      "execution_count": 29,
      "outputs": [
        {
          "output_type": "stream",
          "name": "stdout",
          "text": [
            "0\n",
            "1\n",
            "3\n"
          ]
        }
      ]
    },
    {
      "cell_type": "code",
      "source": [
        "#lets create a def\n",
        "\n",
        "def allodds(lastn):\n",
        "  \"\"\"\n",
        "  lets print odd numbers\n",
        "  Input:\n",
        "  lastn:\n",
        "    lastn: (int) last numberin the list\n",
        "  Return:\n",
        "    a list of odd numbers\n",
        "  \"\"\"\n",
        "  odds = []\n",
        "\n",
        "  for a in range(0, lastn + 1):\n",
        "    if a % 2==1:\n",
        "        odds.append(a)\n",
        "    #print(odds)\n",
        "  return odds\n",
        "\n"
      ],
      "metadata": {
        "id": "Sfj3fCBpnHsA"
      },
      "execution_count": 38,
      "outputs": []
    },
    {
      "cell_type": "code",
      "source": [
        "allodds?"
      ],
      "metadata": {
        "id": "WpTkVYP2oszK"
      },
      "execution_count": 40,
      "outputs": []
    },
    {
      "cell_type": "code",
      "source": [
        "allodds(10)"
      ],
      "metadata": {
        "colab": {
          "base_uri": "https://localhost:8080/"
        },
        "id": "xrnpwyeGqA4-",
        "outputId": "36356056-f3b7-498c-c206-82a0c06b9edc"
      },
      "execution_count": 39,
      "outputs": [
        {
          "output_type": "execute_result",
          "data": {
            "text/plain": [
              "[1, 3, 5, 7, 9]"
            ]
          },
          "metadata": {},
          "execution_count": 39
        }
      ]
    },
    {
      "cell_type": "code",
      "source": [
        "#write a def thake a word and check if its a palandrimo, check if its a strain, if not, take it out.\n",
        "\n",
        "def Palind(palin):\n",
        "  if palin  type(palin)==\"str\":\n",
        "    print(\"the input is a strain, so we can continue\")\n",
        "    check = palin == palin[::-1]\n",
        "\n",
        "  else:\n",
        "    return palin\n",
        "\n",
        "#TRY IN CLASS ^^^\n",
        "\n",
        "\n"
      ],
      "metadata": {
        "colab": {
          "base_uri": "https://localhost:8080/",
          "height": 108
        },
        "id": "1KYWqkKJqQoc",
        "outputId": "39ee0d5a-146c-4a32-cfe6-6b68f26f551b"
      },
      "execution_count": 42,
      "outputs": [
        {
          "output_type": "error",
          "ename": "SyntaxError",
          "evalue": "invalid syntax (<ipython-input-42-4d700784382d>, line 4)",
          "traceback": [
            "\u001b[0;36m  File \u001b[0;32m\"<ipython-input-42-4d700784382d>\"\u001b[0;36m, line \u001b[0;32m4\u001b[0m\n\u001b[0;31m    if palin type(palin)==\"str\":\u001b[0m\n\u001b[0m             ^\u001b[0m\n\u001b[0;31mSyntaxError\u001b[0m\u001b[0;31m:\u001b[0m invalid syntax\n"
          ]
        }
      ]
    },
    {
      "cell_type": "code",
      "source": [
        "#SOLUTION\n",
        "\n",
        "def ispalindome(s):\n",
        "  \"check if a string is a palindome\"\n",
        "  #if  type(s) != str:\n",
        "    #print(\"is not a string\")\n",
        "\n",
        "  assert type(s) == str, \"input must be a string\"\n",
        "  if s.lowe == s[::-1].lower:   #.lower make anything to lowercases\n",
        "    return True\n",
        "  return False\n",
        "\n",
        "\n",
        "\n",
        "ispalindome(\"racecar\")"
      ],
      "metadata": {
        "colab": {
          "base_uri": "https://localhost:8080/"
        },
        "id": "LFxjje4Ps-IB",
        "outputId": "0d1caab9-2084-4c9b-881c-0b611ab406da"
      },
      "execution_count": 46,
      "outputs": [
        {
          "output_type": "execute_result",
          "data": {
            "text/plain": [
              "True"
            ]
          },
          "metadata": {},
          "execution_count": 46
        }
      ]
    },
    {
      "cell_type": "code",
      "source": [],
      "metadata": {
        "id": "YJuQReD-uGpM"
      },
      "execution_count": null,
      "outputs": []
    },
    {
      "cell_type": "code",
      "source": [
        "# prompt: check if a strain is a palindrom\n",
        "\n",
        "import numpy as np\n",
        "#creating variables and identifying types of variables\n",
        "\n",
        "my_str = 'hello'\n",
        "\n",
        "print(my_str)\n",
        "#creating and integer\n",
        "my_int = 6\n",
        "my_float = 6.\n",
        "print(my_float)\n",
        "#\n",
        "my_int * my_float\n",
        "#it will create a float to storage more\n",
        "my_int * my_str\n",
        "helloword = \"hello\" + \" word\"\n",
        "#it will concatenate the word into a single str\n",
        "my_nparr = np.array([1,2,3])\n",
        "#make an array of this number\n",
        "my_nparr\n",
        "my_int * my_nparr\n",
        "my_bool = True\n",
        "#to create conditions in the code.\n",
        "my_int = 1\n",
        "my_int != 6\n",
        "if my_int != 6:\n",
        "  print(\"my_int is not 6\")\n",
        "else:\n",
        "  print(\"int was 6!!\")\n",
        "\n",
        "type(my_str)\n",
        "my_nparr.dtype\n",
        "my_nparr.argmax()\n",
        "my_nparr[1:2]\n",
        "#utility function\n",
        "list(range(1,4))\n",
        "\n",
        "for a in range(1,4):\n",
        "  print(sum(np.arange(0,a)))\n",
        "#lets create a def\n",
        "\n",
        "def allodds(lastn):\n",
        "  \"\"\"\n",
        "  lets print odd numbers\n",
        "  Input:\n",
        "  lastn:\n",
        "    lastn: (int) last numberin the list\n",
        "  Return:\n",
        "    a list of odd numbers\n",
        "  \"\"\"\n",
        "  odds = []\n",
        "\n",
        "  for a in range(0, lastn + 1):\n",
        "    if a % 2==1:\n",
        "        odds.append(a)\n",
        "    #print(odds)\n",
        "  return odds\n",
        "\n",
        "\n",
        "allodds?\n",
        "allodds(10)\n",
        "#write a def thake a word and check if its a palandrimo, check if its a strain, if not, take it out.\n",
        "\n",
        "def Palind(palin):\n",
        "  if isinstance(palin, str):\n",
        "    palin = palin.lower()  # ignore case\n",
        "    return palin == palin[::-1] # compare string to reversed string\n",
        "  else:\n",
        "    return palin\n"
      ],
      "metadata": {
        "id": "oWqWxI31rWjP"
      },
      "execution_count": null,
      "outputs": []
    }
  ]
}